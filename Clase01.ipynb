{
  "cells": [
    {
      "cell_type": "markdown",
      "metadata": {
        "id": "ThdTy3SqaHmX"
      },
      "source": [
        "# Clase 01\n",
        "\n",
        "Introducción a Python y Numpy"
      ]
    },
    {
      "cell_type": "code",
      "execution_count": 3,
      "metadata": {
        "colab": {
          "base_uri": "https://localhost:8080/"
        },
        "id": "_9f-l8wNa7sA",
        "outputId": "4f56151a-29f7-42a2-dce4-c397f503f051"
      },
      "outputs": [
        {
          "name": "stdout",
          "output_type": "stream",
          "text": [
            "Hola mundo\n"
          ]
        }
      ],
      "source": [
        "### Tipos de datos ###\n",
        "# Enteros\n",
        "a = 5\n",
        "#print(a)\n",
        "# Float\n",
        "b = 3.14\n",
        "#print(b)\n",
        "# Cadenas\n",
        "c = \"Hola\"\n",
        "d = 'mundo'\n",
        "#print(c)\n",
        "# Concatenación cadena y entero\n",
        "#print(c, a)\n",
        "# Concatenación cadena y cadena\n",
        "print(c, d)"
      ]
    },
    {
      "cell_type": "code",
      "execution_count": 4,
      "metadata": {
        "colab": {
          "base_uri": "https://localhost:8080/"
        },
        "id": "CbmejDMmdatS",
        "outputId": "a374791a-94ed-4fa9-e4ee-5c30ea866251"
      },
      "outputs": [
        {
          "name": "stdout",
          "output_type": "stream",
          "text": [
            "Suma= 7\n",
            "Resta= 3\n",
            "Multiplicación= 10\n",
            "División= 2.5\n",
            "Residuo= 1\n"
          ]
        }
      ],
      "source": [
        "### Operadores aritméticos\n",
        "n1 = 5\n",
        "n2 = 2\n",
        "# Suma\n",
        "suma = n1 + n2\n",
        "print(\"Suma=\", suma)\n",
        "# Resta\n",
        "resta = n1 - n2\n",
        "print(\"Resta=\", resta)\n",
        "# Multiplicación\n",
        "multiplicacion = n1 * n2\n",
        "print(\"Multiplicación=\", multiplicacion)\n",
        "# División\n",
        "division = n1 / n2\n",
        "print(\"División=\", division)\n",
        "# Módulo\n",
        "modulo = n1 % n2\n",
        "print(\"Residuo=\", modulo)"
      ]
    },
    {
      "cell_type": "code",
      "execution_count": 5,
      "metadata": {
        "colab": {
          "base_uri": "https://localhost:8080/"
        },
        "id": "a10gUVUbenOl",
        "outputId": "c8b4748c-834e-4c4c-ecfd-27d2b849d884"
      },
      "outputs": [
        {
          "name": "stdout",
          "output_type": "stream",
          "text": [
            "True\n"
          ]
        }
      ],
      "source": [
        "### Operadores relacionales ###\n",
        "# Mayor que\n",
        "n1 = 5\n",
        "n2 = 2\n",
        "#print(n1 > n2)\n",
        "# Mayor igual que\n",
        "n1 = 3\n",
        "n2 = 3\n",
        "#print(n1 >= n2)\n",
        "# Menor que\n",
        "n1 = 5\n",
        "n2 = 2\n",
        "#print(n1 < n2)\n",
        "# Menor igual que\n",
        "n1 = 3\n",
        "n2 = 3\n",
        "#print(n1 <= n2)\n",
        "# Igual\n",
        "n1 = 3\n",
        "n2 = 5\n",
        "#print(n1 == n2)\n",
        "# Diferente\n",
        "n1 = 3\n",
        "n2 = 5\n",
        "print(n1 != n2)"
      ]
    },
    {
      "cell_type": "code",
      "execution_count": 6,
      "metadata": {
        "colab": {
          "base_uri": "https://localhost:8080/"
        },
        "id": "pAYyMxm-gHT_",
        "outputId": "583ea013-4ab9-4ee3-a40d-3c27b05cf06e"
      },
      "outputs": [
        {
          "name": "stdout",
          "output_type": "stream",
          "text": [
            "[10, 2, 5, 9]\n",
            "[10.2, 11.2, 32.5]\n",
            "['maria', 'pedro', 'juan']\n",
            "[10, 10.4, 'jose']\n",
            "[10, 10.4, 'jose', 'andres']\n",
            "[10, 10.4, 'andres']\n"
          ]
        }
      ],
      "source": [
        "### Listas\n",
        "lista = [10, 2, 5, 9]\n",
        "print(lista)\n",
        "lista2 = [10.2, 11.2, 32.5]\n",
        "print(lista2)\n",
        "lista3 = [\"maria\", \"pedro\", \"juan\"]\n",
        "print(lista3)\n",
        "lista4 = [10, 10.4, \"jose\"]\n",
        "print(lista4)\n",
        "\n",
        "# Adicionar\n",
        "lista4.append(\"andres\")\n",
        "print(lista4)\n",
        "\n",
        "lista4.remove(\"jose\")\n",
        "print(lista4)\n"
      ]
    },
    {
      "cell_type": "markdown",
      "metadata": {},
      "source": [
        "#### Operaciones matemáticas"
      ]
    },
    {
      "cell_type": "code",
      "execution_count": 7,
      "metadata": {},
      "outputs": [
        {
          "name": "stdout",
          "output_type": "stream",
          "text": [
            "Pesos = 2025000\n"
          ]
        }
      ],
      "source": [
        "### Convertir dolares a pesos\n",
        "dolares = 500\n",
        "\n",
        "# Valor peso hoy = 4050\n",
        "pesos = 500 * 4050\n",
        "print(\"Pesos =\", pesos)\n"
      ]
    },
    {
      "cell_type": "code",
      "execution_count": 9,
      "metadata": {},
      "outputs": [
        {
          "name": "stdout",
          "output_type": "stream",
          "text": [
            "Centigrados: 18.333\n"
          ]
        }
      ],
      "source": [
        "### Convertir grados farenheit a centigrados\n",
        "\n",
        "farenheit = 65\n",
        "\n",
        "centigrados = (farenheit - 32) / 1.8\n",
        "\n",
        "print(\"Centigrados:\", round(centigrados, 3))"
      ]
    },
    {
      "cell_type": "markdown",
      "metadata": {
        "id": "1JHuAV7ahC_Y"
      },
      "source": [
        "### Numpy"
      ]
    },
    {
      "cell_type": "code",
      "execution_count": 10,
      "metadata": {
        "id": "alV0jej1hFHi"
      },
      "outputs": [],
      "source": [
        "### Libreria para operaciones matemáticas\n",
        "import numpy as np"
      ]
    },
    {
      "cell_type": "code",
      "execution_count": 11,
      "metadata": {
        "colab": {
          "base_uri": "https://localhost:8080/"
        },
        "id": "H7q5f6BhhPsK",
        "outputId": "4a0c08f4-bc3f-4854-9d4d-137b27931ff7"
      },
      "outputs": [
        {
          "name": "stdout",
          "output_type": "stream",
          "text": [
            "1.4142\n"
          ]
        }
      ],
      "source": [
        "# Raiz cuadrada\n",
        "n = 2\n",
        "\n",
        "raiz = np.sqrt(n)\n",
        "print(round(raiz, 4))"
      ]
    },
    {
      "cell_type": "code",
      "execution_count": 12,
      "metadata": {},
      "outputs": [
        {
          "name": "stdout",
          "output_type": "stream",
          "text": [
            "4\n"
          ]
        }
      ],
      "source": [
        "# Elevar al cuadrado\n",
        "cuadrado = np.power(n, 2)\n",
        "print(cuadrado)"
      ]
    },
    {
      "cell_type": "code",
      "execution_count": 13,
      "metadata": {
        "colab": {
          "base_uri": "https://localhost:8080/"
        },
        "id": "hD8ZMOJYWfQx",
        "outputId": "23a674a5-b13a-44b4-cb07-3453e6e58195"
      },
      "outputs": [
        {
          "name": "stdout",
          "output_type": "stream",
          "text": [
            "c = 3.61\n"
          ]
        }
      ],
      "source": [
        "### Pitágoras\n",
        "a = 2\n",
        "b = 3\n",
        "\n",
        "c = np.sqrt( (np.power(a, 2)) + (np.power(b, 2)) )\n",
        "\n",
        "print(\"c =\", round(c, 2) )"
      ]
    }
  ],
  "metadata": {
    "colab": {
      "provenance": []
    },
    "kernelspec": {
      "display_name": "Python 3",
      "name": "python3"
    },
    "language_info": {
      "codemirror_mode": {
        "name": "ipython",
        "version": 3
      },
      "file_extension": ".py",
      "mimetype": "text/x-python",
      "name": "python",
      "nbconvert_exporter": "python",
      "pygments_lexer": "ipython3",
      "version": "3.9.13"
    }
  },
  "nbformat": 4,
  "nbformat_minor": 0
}
